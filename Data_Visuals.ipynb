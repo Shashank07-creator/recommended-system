{
 "cells": [
  {
   "cell_type": "code",
   "execution_count": 3,
   "metadata": {},
   "outputs": [
    {
     "data": {
      "text/html": [
       "<div>\n",
       "<style scoped>\n",
       "    .dataframe tbody tr th:only-of-type {\n",
       "        vertical-align: middle;\n",
       "    }\n",
       "\n",
       "    .dataframe tbody tr th {\n",
       "        vertical-align: top;\n",
       "    }\n",
       "\n",
       "    .dataframe thead th {\n",
       "        text-align: right;\n",
       "    }\n",
       "</style>\n",
       "<table border=\"1\" class=\"dataframe\">\n",
       "  <thead>\n",
       "    <tr style=\"text-align: right;\">\n",
       "      <th></th>\n",
       "      <th>movieId</th>\n",
       "    </tr>\n",
       "  </thead>\n",
       "  <tbody>\n",
       "    <tr>\n",
       "      <th>count</th>\n",
       "      <td>27278.000000</td>\n",
       "    </tr>\n",
       "    <tr>\n",
       "      <th>mean</th>\n",
       "      <td>59855.480570</td>\n",
       "    </tr>\n",
       "    <tr>\n",
       "      <th>std</th>\n",
       "      <td>44429.314697</td>\n",
       "    </tr>\n",
       "    <tr>\n",
       "      <th>min</th>\n",
       "      <td>1.000000</td>\n",
       "    </tr>\n",
       "    <tr>\n",
       "      <th>25%</th>\n",
       "      <td>6931.250000</td>\n",
       "    </tr>\n",
       "    <tr>\n",
       "      <th>50%</th>\n",
       "      <td>68068.000000</td>\n",
       "    </tr>\n",
       "    <tr>\n",
       "      <th>75%</th>\n",
       "      <td>100293.250000</td>\n",
       "    </tr>\n",
       "    <tr>\n",
       "      <th>max</th>\n",
       "      <td>131262.000000</td>\n",
       "    </tr>\n",
       "  </tbody>\n",
       "</table>\n",
       "</div>"
      ],
      "text/plain": [
       "             movieId\n",
       "count   27278.000000\n",
       "mean    59855.480570\n",
       "std     44429.314697\n",
       "min         1.000000\n",
       "25%      6931.250000\n",
       "50%     68068.000000\n",
       "75%    100293.250000\n",
       "max    131262.000000"
      ]
     },
     "execution_count": 3,
     "metadata": {},
     "output_type": "execute_result"
    }
   ],
   "source": [
    "\n",
    "# Block for data processing and column distribution\n",
    "\n",
    "import numpy as np\n",
    "import pandas as pd\n",
    "\n",
    "dataframe = pd.read_csv(\"C:\\\\Users\\\\Shashank\\\\Desktop\\\\project\\\\ml-20m\\\\movies.csv\")\n",
    "\n",
    "\n",
    "#dataframe.head()\n",
    "new = dataframe['title'].str.split('(',n=1,expand=True)\n",
    "dataframe['movies_name'] = new[0]\n",
    "dataframe['release_date'] = new[1]\n",
    "\n",
    "new = dataframe['genres'].str.split('|',n=4,expand=True)\n",
    "dataframe['type1']=new[0]\n",
    "dataframe['type2']=new[1]\n",
    "dataframe['type3']=new[2]\n",
    "dataframe['type4']=new[3]\n",
    "dataframe['type5']=new[4]\n",
    "\n",
    "dataframe.drop(['title','genres'],axis=1)\n",
    "dataframe.replace(to_replace=[None],value='z',inplace=True)\n",
    "\n",
    "x = dataframe.iloc[:,4:-1].values\n",
    "y = dataframe.iloc[:,3].values\n",
    "\n",
    "\n",
    "dataframe.describe()"
   ]
  },
  {
   "cell_type": "code",
   "execution_count": 4,
   "metadata": {},
   "outputs": [],
   "source": [
    "# Block for label encoding the data\n",
    "\n",
    "from sklearn.preprocessing import LabelEncoder\n",
    "\n",
    "for i in range(1,5):\n",
    "    encoder = LabelEncoder()\n",
    "    x[:,i]=encoder.fit_transform(x[:,i])\n",
    "\n",
    "y = encoder.fit_transform(y)\n"
   ]
  },
  {
   "cell_type": "code",
   "execution_count": 5,
   "metadata": {},
   "outputs": [],
   "source": [
    "#print(x)"
   ]
  },
  {
   "cell_type": "code",
   "execution_count": 14,
   "metadata": {},
   "outputs": [],
   "source": [
    "# Block for mering three csv files\n",
    "\n",
    "category_movies = pd.read_csv(\"C:\\\\Users\\\\Shashank\\\\Desktop\\\\project\\\\ml-20m\\\\genome-tags.csv\")\n",
    "movie_id = pd.read_csv(\"C:\\\\Users\\\\Shashank\\\\Desktop\\\\project\\\\ml-20m\\\\links.csv\")\n",
    "category_movies.columns\n",
    "movie_id.columns\n",
    "dataframe['ID'] = movie_id['imdbId']\n",
    "dataframe[dataframe.genres != \"(no genres listed)\"]\n",
    "\n",
    "z = dataframe.iloc[:,-1].values"
   ]
  },
  {
   "cell_type": "code",
   "execution_count": 15,
   "metadata": {},
   "outputs": [
    {
     "name": "stdout",
     "output_type": "stream",
     "text": [
      "[['1995)' 2 1 1 1]\n",
      " ['1995)' 2 2 6 16]\n",
      " ['1995)' 5 13 17 16]\n",
      " ...\n",
      " ['2014)' 2 18 17 16]\n",
      " ['2001)' 0 18 17 16]\n",
      " ['2014)' 2 7 8 16]]\n",
      "[23410 12102  9644 ... 22627 18608 11437]\n",
      "[ 114709  113497  113228 ... 3485166  249110 1724965]\n"
     ]
    }
   ],
   "source": [
    "# final view of data\n",
    "\n",
    "import matplotlib.pyplot as plt\n",
    "import seaborn as sns\n",
    "\n",
    "#print(new.head())\n",
    "dataframe.head()\n",
    "print(x[:,:])\n",
    "print(y)\n",
    "print(z)\n"
   ]
  },
  {
   "cell_type": "code",
   "execution_count": null,
   "metadata": {},
   "outputs": [],
   "source": []
  }
 ],
 "metadata": {
  "kernelspec": {
   "display_name": "Python 3",
   "language": "python",
   "name": "python3"
  },
  "language_info": {
   "codemirror_mode": {
    "name": "ipython",
    "version": 3
   },
   "file_extension": ".py",
   "mimetype": "text/x-python",
   "name": "python",
   "nbconvert_exporter": "python",
   "pygments_lexer": "ipython3",
   "version": "3.7.1"
  }
 },
 "nbformat": 4,
 "nbformat_minor": 2
}
